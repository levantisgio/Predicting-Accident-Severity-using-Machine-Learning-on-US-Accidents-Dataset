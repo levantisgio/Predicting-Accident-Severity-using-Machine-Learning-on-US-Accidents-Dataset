{
 "cells": [
  {
   "cell_type": "code",
   "execution_count": null,
   "id": "03c9dd94",
   "metadata": {},
   "outputs": [],
   "source": [
    "'''\n",
    "ΙΩΑΝΝΗΣ ΚΩΝΣΤΑΝΤΑΚΟΣ mpked2215 \n",
    "ΓΕΩΡΓΙΟΣ ΛΕΒΑΝΤΗΣ mpked2216\n",
    "\n",
    "Η παρακάτω εργασία είναι η δεύτερη που δουλεύουμε και στέλνουμε και πραγματοποιήθηκε διότι στην \n",
    "πρώτη δεν βρήκαμε ουσία στο τρίτο ερώτημα (Classification) και στην ουσία όπως περιγράφουμε\n",
    "αντι για classification κάναμε ένα recommendation system το οποίο δεν ξέρουμε με σιγουριά αν\n",
    "καλύπτει το ερώτημα στο 100%.\n",
    "Για την παρούσα εργασία θελήσαμε να εργαστούμε σε ολόκληρο το dataset για να προσεγγισουμε την\n",
    "πραγματικότητα αλλά βρήκαμε αρκετές δυσκολίες λόγω αυτού.\n",
    "\n",
    "'''"
   ]
  },
  {
   "cell_type": "markdown",
   "id": "eb2cc599",
   "metadata": {},
   "source": [
    "### IMPORT LIBRARIES"
   ]
  },
  {
   "cell_type": "code",
   "execution_count": null,
   "id": "73a4d51a",
   "metadata": {},
   "outputs": [],
   "source": []
  },
  {
   "cell_type": "code",
   "execution_count": null,
   "id": "2b28c59a",
   "metadata": {},
   "outputs": [],
   "source": [
    "import numpy as np\n",
    "import pandas as pd\n",
    "import csv\n",
    "import seaborn\n",
    "from matplotlib import pyplot as plt\n",
    "from matplotlib.ticker import StrMethodFormatter\n",
    "plt.style.use('dark_background')\n",
    "from sklearn.model_selection import train_test_split\n",
    "from sklearn.linear_model import LogisticRegression\n",
    "from sklearn.preprocessing import StandardScaler\n",
    "from sklearn.preprocessing import MinMaxScaler\n",
    "from sklearn.metrics import classification_report\n",
    "from sklearn.metrics import confusion_matrix\n",
    "from sklearn.neighbors import KNeighborsClassifier\n",
    "from sklearn.tree import DecisionTreeClassifier\n",
    "from sklearn.ensemble import RandomForestClassifier\n",
    "from sklearn.svm import SVC\n",
    "from sklearn.cluster import KMeans\n",
    "from sklearn.cluster import DBSCAN"
   ]
  },
  {
   "cell_type": "code",
   "execution_count": null,
   "id": "8891af33",
   "metadata": {},
   "outputs": [],
   "source": []
  },
  {
   "cell_type": "markdown",
   "id": "165e31ef",
   "metadata": {},
   "source": [
    "### READ DATA"
   ]
  },
  {
   "cell_type": "code",
   "execution_count": null,
   "id": "22e9b720",
   "metadata": {},
   "outputs": [],
   "source": []
  },
  {
   "cell_type": "code",
   "execution_count": null,
   "id": "c70b8d7b",
   "metadata": {},
   "outputs": [],
   "source": [
    "data = pd.read_csv('/Users/levantisgio/Desktop/accidents.csv')#, nrows=100000)"
   ]
  },
  {
   "cell_type": "code",
   "execution_count": null,
   "id": "1fde2121",
   "metadata": {},
   "outputs": [],
   "source": [
    "### Random Sampling\n",
    "#subset = data.sample(n=100000)\n",
    "\n",
    "### Export this DataFrame to a csv for easy access.\n",
    "#subset.to_csv(r'/Users/levantisgio/Desktop/Sample_US_Accidents_Dec21.csv', index=False, header=True)  \n"
   ]
  },
  {
   "cell_type": "code",
   "execution_count": null,
   "id": "f9d43886",
   "metadata": {},
   "outputs": [],
   "source": []
  },
  {
   "cell_type": "markdown",
   "id": "35259493",
   "metadata": {},
   "source": [
    "###  DATA PREPROCESSING / EXPLORATION "
   ]
  },
  {
   "cell_type": "code",
   "execution_count": null,
   "id": "a4e0d163",
   "metadata": {},
   "outputs": [],
   "source": []
  },
  {
   "cell_type": "code",
   "execution_count": null,
   "id": "be57b105",
   "metadata": {},
   "outputs": [],
   "source": [
    "data.head(5)"
   ]
  },
  {
   "cell_type": "code",
   "execution_count": null,
   "id": "05e8a01a",
   "metadata": {
    "scrolled": false
   },
   "outputs": [],
   "source": [
    "data.tail()"
   ]
  },
  {
   "cell_type": "code",
   "execution_count": null,
   "id": "a8e0d28f",
   "metadata": {},
   "outputs": [],
   "source": [
    "# check the no. of columns & rows\n",
    "print('The Sample Dataset Contains, Rows: {:,d} & Columns: {}'\n",
    "      .format(data.shape[0], data.shape[1]))"
   ]
  },
  {
   "cell_type": "code",
   "execution_count": null,
   "id": "e09d8647",
   "metadata": {},
   "outputs": [],
   "source": [
    "\n",
    "data.columns"
   ]
  },
  {
   "cell_type": "code",
   "execution_count": null,
   "id": "79988f8e",
   "metadata": {},
   "outputs": [],
   "source": [
    "# Next, we need an overview of the data types for each column-\n",
    "data.info()"
   ]
  },
  {
   "cell_type": "code",
   "execution_count": null,
   "id": "1597cf1f",
   "metadata": {},
   "outputs": [],
   "source": [
    "# The above list ends by saying that there are 3 bool, 13 float64, 1 int64, 20 objects."
   ]
  },
  {
   "cell_type": "code",
   "execution_count": null,
   "id": "9c9afafb",
   "metadata": {},
   "outputs": [],
   "source": []
  },
  {
   "cell_type": "markdown",
   "id": "86d1e6c9",
   "metadata": {},
   "source": [
    "##### SUMMARY STATISTICS"
   ]
  },
  {
   "cell_type": "code",
   "execution_count": null,
   "id": "c647589b",
   "metadata": {},
   "outputs": [],
   "source": []
  },
  {
   "cell_type": "code",
   "execution_count": null,
   "id": "6b2c1957",
   "metadata": {},
   "outputs": [],
   "source": [
    "data.describe() \n",
    "'''\n",
    "The data has 14 numeric columns while the rest are categorical variables.\n",
    "'''"
   ]
  },
  {
   "cell_type": "code",
   "execution_count": null,
   "id": "d952c8fa",
   "metadata": {},
   "outputs": [],
   "source": [
    "# We need the total numbers for each column in descending order\n",
    "data.isna().sum().sort_values(ascending = False)"
   ]
  },
  {
   "cell_type": "code",
   "execution_count": null,
   "id": "7643ee04",
   "metadata": {},
   "outputs": [],
   "source": [
    "#Create variable to present the percentages of every column with missing values\n",
    "missing_percentages = data.isna().sum().sort_values(ascending = False)/len(data)\n",
    "\n",
    "#sorting out the ones with zeros\n",
    "missing_percentages[missing_percentages != 0]\n",
    "\n"
   ]
  },
  {
   "cell_type": "code",
   "execution_count": null,
   "id": "3c5da02b",
   "metadata": {},
   "outputs": [],
   "source": [
    "missing_percentages[missing_percentages != 0].plot.barh(x='lab', y='val')"
   ]
  },
  {
   "cell_type": "code",
   "execution_count": null,
   "id": "28634571",
   "metadata": {},
   "outputs": [],
   "source": [
    "fig=seaborn.heatmap(data[['Severity','Start_Lat','End_Lat','Distance(mi)','Temperature(F)','Wind_Chill(F)','Humidity(%)','Pressure(in)','Visibility(mi)','Wind_Speed(mph)']].corr(),annot=True,cmap='RdYlGn',linewidths=0.2,annot_kws={'size':15})\n",
    "fig=plt.gcf()\n",
    "fig.set_size_inches(18,15)\n",
    "plt.xticks(fontsize=14)\n",
    "plt.yticks(fontsize=14)\n",
    "plt.show()"
   ]
  },
  {
   "cell_type": "code",
   "execution_count": null,
   "id": "cbe49f17",
   "metadata": {},
   "outputs": [],
   "source": [
    "# Exclude unnecessary columns\n",
    "exclude = [\"End_Lat\",\"End_Lng\",\"Precipitation(in)\",\"Description\",\"Number\",\"Street\",\"Timezone\",\n",
    "           \"Airport_Code\",\"Weather_Timestamp\",\"Civil_Twilight\",\n",
    "           \"Nautical_Twilight\",\"Astronomical_Twilight\"]\n",
    "data = data.drop(exclude,axis=1)"
   ]
  },
  {
   "cell_type": "code",
   "execution_count": null,
   "id": "2d54520e",
   "metadata": {},
   "outputs": [],
   "source": [
    "'''\n",
    "To prepare the dataset for further analysis, some additional columns are added:\n",
    "\n",
    "Time_Diff: Time difference between start time and end time of the accident\n",
    "Year: Year of start time\n",
    "Month: Month of start time\n",
    "Day: Day of start time\n",
    "Hour: Hour of start time\n",
    "'''\n",
    "# To see the trends of accidents over the years, months klp\n",
    "\n",
    "data['acc_year'] = pd.to_datetime(data['Start_Time']).dt.year\n",
    "data['acc_month'] = pd.to_datetime(data['Start_Time']).dt.month\n",
    "data['acc_hr_day'] = pd.to_datetime(data['Start_Time']).dt.hour\n",
    "\n",
    "data['new_date'] = pd.to_datetime(data['Start_Time']).dt.date"
   ]
  },
  {
   "cell_type": "code",
   "execution_count": null,
   "id": "e804bfb3",
   "metadata": {},
   "outputs": [],
   "source": [
    "data['day_name'] = pd.to_datetime(data['Start_Time']).dt.day_name()"
   ]
  },
  {
   "cell_type": "code",
   "execution_count": null,
   "id": "7c414b2f",
   "metadata": {},
   "outputs": [],
   "source": [
    "# Features' Density\n",
    "\n",
    "numeric_feats = ['Temperature(F)', 'Wind_Chill(F)', 'Humidity(%)', 'Humidity(%)', 'Pressure(in)', 'Visibility(mi)', 'Wind_Speed(mph)', 'Severity']\n",
    "\n",
    "fig, ax = plt.subplots(3,3, figsize=(20,20)) \n",
    "ax_flat = ax.flatten() \n",
    "\n",
    "for idx, feat in enumerate(numeric_feats):\n",
    "    data[feat].plot.density(ax=ax_flat[idx])\n",
    "    ax_flat[idx].set_title(feat)"
   ]
  },
  {
   "cell_type": "code",
   "execution_count": null,
   "id": "55824923",
   "metadata": {},
   "outputs": [],
   "source": [
    "data.Severity.unique()"
   ]
  },
  {
   "cell_type": "code",
   "execution_count": null,
   "id": "bb7d0a3b",
   "metadata": {},
   "outputs": [],
   "source": [
    "data.Severity.value_counts(sort=True)"
   ]
  },
  {
   "cell_type": "code",
   "execution_count": null,
   "id": "a435c384",
   "metadata": {},
   "outputs": [],
   "source": [
    "f,ax=plt.subplots(1,2,figsize=(18,8))\n",
    "data['Severity'].value_counts().plot.pie(explode=[0,0.1,0.1,0.1],autopct='%1.1f%%',ax=ax[0],shadow=True)\n",
    "ax[0].set_title('Percentage Severity Distribution')\n",
    "ax[0].set_ylabel('Count')\n",
    "seaborn.countplot('Severity',data=data,ax=ax[1],order=data['Severity'].value_counts().index)\n",
    "ax[1].set_title('Count of Severity')\n",
    "plt.show()"
   ]
  },
  {
   "cell_type": "code",
   "execution_count": null,
   "id": "dabc0615",
   "metadata": {},
   "outputs": [],
   "source": [
    "data[data.columns[1:]].corr()['Severity'][:]"
   ]
  },
  {
   "cell_type": "code",
   "execution_count": null,
   "id": "76b812ca",
   "metadata": {},
   "outputs": [],
   "source": []
  },
  {
   "cell_type": "markdown",
   "id": "c65831b1",
   "metadata": {},
   "source": [
    "##### Seeing which counties have the highest number of accidents"
   ]
  },
  {
   "cell_type": "code",
   "execution_count": null,
   "id": "321057fd",
   "metadata": {},
   "outputs": [],
   "source": []
  },
  {
   "cell_type": "code",
   "execution_count": null,
   "id": "11ae28bd",
   "metadata": {},
   "outputs": [],
   "source": [
    "data.groupby('County')['ID'].count().reset_index(name = 'count').sort_values(by = 'count', ascending = False)"
   ]
  },
  {
   "cell_type": "code",
   "execution_count": null,
   "id": "f78a7f65",
   "metadata": {},
   "outputs": [],
   "source": []
  },
  {
   "cell_type": "markdown",
   "id": "922e1f37",
   "metadata": {},
   "source": [
    "##### Getting mean weather conditions for the counties with top accident counts"
   ]
  },
  {
   "cell_type": "code",
   "execution_count": null,
   "id": "6c57fae5",
   "metadata": {},
   "outputs": [],
   "source": []
  },
  {
   "cell_type": "code",
   "execution_count": null,
   "id": "ebf58a6d",
   "metadata": {},
   "outputs": [],
   "source": [
    "temp = data.groupby('County')['ID', 'Temperature(F)', 'Wind_Chill(F)', 'Humidity(%)', 'Pressure(in)',\n",
    "       'Visibility(mi)', 'Wind_Speed(mph)'].agg({'ID':'count', 'Temperature(F)':'mean', 'Wind_Chill(F)':'mean', 'Humidity(%)':'mean', 'Pressure(in)':'mean',\n",
    "       'Visibility(mi)':'mean', 'Wind_Speed(mph)':'mean'}).reset_index().sort_values(by = 'ID', ascending = False)"
   ]
  },
  {
   "cell_type": "code",
   "execution_count": null,
   "id": "d9ad49bb",
   "metadata": {},
   "outputs": [],
   "source": [
    "temp[temp['ID']>20000].head(20)\n"
   ]
  },
  {
   "cell_type": "code",
   "execution_count": null,
   "id": "1d27482d",
   "metadata": {},
   "outputs": [],
   "source": []
  },
  {
   "cell_type": "markdown",
   "id": "8bad45ce",
   "metadata": {},
   "source": [
    "#### Checking the number of accidents per state"
   ]
  },
  {
   "cell_type": "code",
   "execution_count": null,
   "id": "281e322f",
   "metadata": {},
   "outputs": [],
   "source": []
  },
  {
   "cell_type": "code",
   "execution_count": null,
   "id": "6742b869",
   "metadata": {},
   "outputs": [],
   "source": [
    "'''\n",
    "- Data Analysis and Visualization:\n",
    "\n",
    "Once the data is cleaned and prepped for analysis, we take some of the columns\n",
    "and apply statistical methods to see the underlying picture come to the surface. \n",
    "The following columns have been analyzed below:\n",
    "\n",
    "State, City, Start Time, Temperature, Weather Condition, \n",
    "Visibility, Crossing, Traffic Signal and Bump.\n",
    "\n",
    "'''"
   ]
  },
  {
   "cell_type": "code",
   "execution_count": null,
   "id": "2587865c",
   "metadata": {},
   "outputs": [],
   "source": [
    "fig,ax=plt.subplots(1,2,figsize=(15,8))\n",
    "clr = (\"blue\", \"green\", \"grey\", \"red\", \"purple\",'pink','yellow','orange','darkblue','maroon')\n",
    "data.State.value_counts().sort_values(ascending=False)[:10].sort_values().plot(kind='barh',color=clr,ax=ax[0])\n",
    "ax[0].set_title(\"Top 10 Acciedent Prone States\",size=20)\n",
    "ax[0].set_xlabel('States',size=18)\n",
    "\n",
    "\n",
    "count=data['State'].value_counts()\n",
    "groups=list(data['State'].value_counts().index)[:10]\n",
    "counts=list(count[:10])\n",
    "counts.append(count.agg(sum)-count[:10].agg('sum'))\n",
    "groups.append('Other')\n",
    "type_dict=pd.DataFrame({\"group\":groups,\"counts\":counts})\n",
    "clr1=('brown','darksalmon','orange','hotpink','cadetblue','purple','red','gold','forestgreen','blue','plum')\n",
    "qx = type_dict.plot(kind='pie', y='counts', labels=groups,colors=clr1,autopct='%1.1f%%', pctdistance=0.9, radius=1.2,ax=ax[1])\n",
    "plt.legend(loc=0, bbox_to_anchor=(1.15,0.4)) \n",
    "plt.subplots_adjust(wspace =0.5, hspace =0)\n",
    "plt.ioff()\n",
    "plt.ylabel('')"
   ]
  },
  {
   "cell_type": "code",
   "execution_count": null,
   "id": "7a448793",
   "metadata": {},
   "outputs": [],
   "source": []
  },
  {
   "cell_type": "markdown",
   "id": "9cd9cf98",
   "metadata": {},
   "source": [
    "#### Checking the number of accidents per City"
   ]
  },
  {
   "cell_type": "code",
   "execution_count": null,
   "id": "fdba9283",
   "metadata": {},
   "outputs": [],
   "source": []
  },
  {
   "cell_type": "code",
   "execution_count": null,
   "id": "4d21a1f7",
   "metadata": {},
   "outputs": [],
   "source": [
    "fig, ax=plt.subplots(figsize=(16,7))\n",
    "data['City'].value_counts().sort_values(ascending=False).head(20).plot.bar(width=0.5,edgecolor='k',align='center',linewidth=2)\n",
    "plt.xlabel('Cities',fontsize=20)\n",
    "plt.ylabel('Number of Accidents',fontsize=20)\n",
    "ax.tick_params(labelsize=20)\n",
    "plt.title('Top 20 Cities with the most accidents',fontsize=25)\n",
    "plt.grid()\n",
    "plt.ioff()"
   ]
  },
  {
   "cell_type": "code",
   "execution_count": null,
   "id": "8aa5ed48",
   "metadata": {},
   "outputs": [],
   "source": []
  },
  {
   "cell_type": "markdown",
   "id": "05bacda7",
   "metadata": {},
   "source": [
    "#### Checking the weather conditions that are most common"
   ]
  },
  {
   "cell_type": "code",
   "execution_count": null,
   "id": "8b72183b",
   "metadata": {},
   "outputs": [],
   "source": []
  },
  {
   "cell_type": "code",
   "execution_count": null,
   "id": "fb686e17",
   "metadata": {},
   "outputs": [],
   "source": [
    "fig, ax=plt.subplots(figsize=(16,7))\n",
    "data['Weather_Condition'].value_counts().sort_values(ascending=False).head(5).plot.bar(width=0.5,edgecolor='k',align='center',linewidth=2)\n",
    "plt.xlabel('Weather_Condition',fontsize=20)\n",
    "plt.ylabel('Number of Accidents',fontsize=20)\n",
    "ax.tick_params(labelsize=20)\n",
    "plt.title('5 Top Weather Condition for accidents',fontsize=25)\n",
    "plt.grid()\n",
    "plt.ioff()"
   ]
  },
  {
   "cell_type": "code",
   "execution_count": null,
   "id": "0d71412b",
   "metadata": {},
   "outputs": [],
   "source": []
  },
  {
   "cell_type": "markdown",
   "id": "390ca79b",
   "metadata": {},
   "source": [
    "### Exploring the target feature which is Severity\n"
   ]
  },
  {
   "cell_type": "code",
   "execution_count": null,
   "id": "fd1e1c0d",
   "metadata": {},
   "outputs": [],
   "source": []
  },
  {
   "cell_type": "markdown",
   "id": "14ed812a",
   "metadata": {},
   "source": [
    "#### At what time are the accidents most common along with severity"
   ]
  },
  {
   "cell_type": "code",
   "execution_count": null,
   "id": "f1032399",
   "metadata": {},
   "outputs": [],
   "source": []
  },
  {
   "cell_type": "code",
   "execution_count": null,
   "id": "19b924e7",
   "metadata": {},
   "outputs": [],
   "source": [
    "hours = list(set(pd.to_datetime(data['Start_Time']).dt.hour))\n",
    "severity_1_hours = []\n",
    "severity_2_hours = []\n",
    "severity_3_hours = []\n",
    "severity_4_hours = []\n",
    "for i in hours:\n",
    "    severity_1_hours.append(data[(data['Severity']==1)&(data['acc_hr_day']==i)].count()['ID'])\n",
    "    severity_2_hours.append(data[(data['Severity']==2)&(data['acc_hr_day']==i)].count()['ID'])\n",
    "    severity_3_hours.append(data[(data['Severity']==3)&(data['acc_hr_day']==i)].count()['ID'])\n",
    "    severity_4_hours.append(data[(data['Severity']==4)&(data['acc_hr_day']==i)].count()['ID'])"
   ]
  },
  {
   "cell_type": "code",
   "execution_count": null,
   "id": "b425aada",
   "metadata": {},
   "outputs": [],
   "source": [
    "plt.figure(figsize=(20,15))\n",
    "\n",
    "plt.bar(hours, severity_2_hours, label='Severity 2')\n",
    "plt.bar(hours, severity_3_hours, label='Severity 3')\n",
    "plt.bar(hours, severity_4_hours, label='Severity 4')\n",
    "plt.bar(hours, severity_1_hours, label='Severity 1')\n",
    "\n",
    "\n",
    "plt.legend()"
   ]
  },
  {
   "cell_type": "code",
   "execution_count": null,
   "id": "2b815674",
   "metadata": {},
   "outputs": [],
   "source": []
  },
  {
   "cell_type": "markdown",
   "id": "cd33cb07",
   "metadata": {},
   "source": [
    "#### Severity with state"
   ]
  },
  {
   "cell_type": "code",
   "execution_count": null,
   "id": "84389595",
   "metadata": {},
   "outputs": [],
   "source": []
  },
  {
   "cell_type": "code",
   "execution_count": null,
   "id": "fb5aa9c5",
   "metadata": {},
   "outputs": [],
   "source": [
    "states = data.State.unique()"
   ]
  },
  {
   "cell_type": "code",
   "execution_count": null,
   "id": "000f7b3e",
   "metadata": {},
   "outputs": [],
   "source": [
    "count_by_state=[]\n",
    "for i in data.State.unique():\n",
    "    count_by_state.append(data[data['State']==i].count()['ID'])"
   ]
  },
  {
   "cell_type": "code",
   "execution_count": null,
   "id": "7a3a59b6",
   "metadata": {},
   "outputs": [],
   "source": [
    "severity_1_state = []\n",
    "severity_2_state = []\n",
    "severity_3_state = []\n",
    "severity_4_state = []\n",
    "for i in states:\n",
    "    severity_1_state.append(data[(data['Severity']==1)&(data['State']==i)].count()['ID'])\n",
    "    severity_2_state.append(data[(data['Severity']==2)&(data['State']==i)].count()['ID'])\n",
    "    severity_3_state.append(data[(data['Severity']==3)&(data['State']==i)].count()['ID'])\n",
    "    severity_4_state.append(data[(data['Severity']==4)&(data['State']==i)].count()['ID'])"
   ]
  },
  {
   "cell_type": "code",
   "execution_count": null,
   "id": "042ee541",
   "metadata": {},
   "outputs": [],
   "source": [
    "# In almost all of the states, accidents of severity 2 are the highest followed by severity 3\n",
    "\n",
    "plt.figure(figsize=(20,15))\n",
    "\n",
    "plt.bar(states, severity_2_state, label='Severity 2')\n",
    "plt.bar(states, severity_3_state, label='Severity 3')\n",
    "plt.bar(states, severity_4_state, label='Severity 4')\n",
    "plt.bar(states, severity_1_state, label='Severity 1')\n",
    "\n",
    "\n",
    "plt.legend()"
   ]
  },
  {
   "cell_type": "code",
   "execution_count": null,
   "id": "5195e64c",
   "metadata": {},
   "outputs": [],
   "source": []
  },
  {
   "cell_type": "markdown",
   "id": "ee10c4f2",
   "metadata": {},
   "source": [
    "#### Severity with temperature"
   ]
  },
  {
   "cell_type": "code",
   "execution_count": null,
   "id": "22a3c975",
   "metadata": {},
   "outputs": [],
   "source": []
  },
  {
   "cell_type": "code",
   "execution_count": null,
   "id": "91901ef6",
   "metadata": {},
   "outputs": [],
   "source": [
    "Temperature = data['Temperature(F)']\n",
    "severity_1_data = data[data['Severity']==1]['Temperature(F)'].mean()\n",
    "severity_2_data = data[data['Severity']==2]['Temperature(F)'].mean()\n",
    "severity_3_data = data[data['Severity']==3]['Temperature(F)'].mean()\n",
    "severity_4_data = data[data['Severity']==4]['Temperature(F)'].mean()\n",
    "severity_labels = ['Severity 1', 'Severity 2', 'Severity 3', 'Severity 4']\n",
    "\n",
    "Mean_temp_by_severity = [severity_1_data, severity_2_data, severity_3_data, severity_4_data]"
   ]
  },
  {
   "cell_type": "code",
   "execution_count": null,
   "id": "7ca01140",
   "metadata": {},
   "outputs": [],
   "source": [
    "plt.figure(figsize=(16, 6))\n",
    "seaborn.barplot(severity_labels, Mean_temp_by_severity)\n",
    "plt.grid(color='black', linestyle='-', linewidth=1, alpha=0.3)"
   ]
  },
  {
   "cell_type": "code",
   "execution_count": null,
   "id": "3163e445",
   "metadata": {},
   "outputs": [],
   "source": []
  },
  {
   "cell_type": "markdown",
   "id": "cb39990d",
   "metadata": {},
   "source": [
    "#### Severity with weather"
   ]
  },
  {
   "cell_type": "code",
   "execution_count": null,
   "id": "a9236305",
   "metadata": {},
   "outputs": [],
   "source": []
  },
  {
   "cell_type": "code",
   "execution_count": null,
   "id": "096d3416",
   "metadata": {},
   "outputs": [],
   "source": [
    "Weather = data.Weather_Condition.value_counts()"
   ]
  },
  {
   "cell_type": "code",
   "execution_count": null,
   "id": "9100023f",
   "metadata": {},
   "outputs": [],
   "source": [
    "severity_1_Weather = []\n",
    "severity_2_Weather = []\n",
    "severity_3_Weather = []\n",
    "severity_4_Weather = []\n",
    "for i in Weather.index:\n",
    "    severity_1_Weather.append(data[(data['Severity']==1)&(data['Weather_Condition']==i)].count()['ID'])\n",
    "    severity_2_Weather.append(data[(data['Severity']==2)&(data['Weather_Condition']==i)].count()['ID'])\n",
    "    severity_3_Weather.append(data[(data['Severity']==3)&(data['Weather_Condition']==i)].count()['ID'])\n",
    "    severity_4_Weather.append(data[(data['Severity']==4)&(data['Weather_Condition']==i)].count()['ID'])"
   ]
  },
  {
   "cell_type": "code",
   "execution_count": null,
   "id": "c4889718",
   "metadata": {},
   "outputs": [],
   "source": [
    "plt.figure()\n",
    "plt.xticks(rotation=90)\n",
    "plt.bar(Weather.index[:10], severity_2_Weather[:10], label='Severity 2')\n",
    "plt.bar(Weather.index[:10], severity_3_Weather[:10], label='Severity 3')\n",
    "plt.bar(Weather.index[:10], severity_4_Weather[:10], label='Severity 4')\n",
    "plt.bar(Weather.index[:10], severity_1_Weather[:10], label='Severity 1')\n",
    "plt.legend()"
   ]
  },
  {
   "cell_type": "code",
   "execution_count": null,
   "id": "7e640d3e",
   "metadata": {},
   "outputs": [],
   "source": [
    "plt.figure()\n",
    "plt.xticks(rotation=90)\n",
    "plt.bar(Weather.index[10:20], severity_2_Weather[10:20], label='Severity 2')\n",
    "plt.bar(Weather.index[10:20], severity_3_Weather[10:20], label='Severity 3')\n",
    "plt.bar(Weather.index[10:20], severity_4_Weather[10:20], label='Severity 4')\n",
    "plt.bar(Weather.index[10:20], severity_1_Weather[10:20], label='Severity 1')\n",
    "plt.legend()"
   ]
  },
  {
   "cell_type": "code",
   "execution_count": null,
   "id": "72719162",
   "metadata": {},
   "outputs": [],
   "source": [
    "percentage_severity_1 = []\n",
    "percentage_severity_2 = []\n",
    "percentage_severity_3 = []\n",
    "percentage_severity_4 = []\n",
    "for i in range(len(severity_1_Weather)):\n",
    "    percentage_severity_1.append((severity_1_Weather[i]/Weather[i])*100)\n",
    "    percentage_severity_2.append((severity_2_Weather[i]/Weather[i])*100)\n",
    "    percentage_severity_3.append((severity_3_Weather[i]/Weather[i])*100)\n",
    "    percentage_severity_4.append((severity_4_Weather[i]/Weather[i])*100)"
   ]
  },
  {
   "cell_type": "code",
   "execution_count": null,
   "id": "dc7bb862",
   "metadata": {},
   "outputs": [],
   "source": [
    "# Here we can note that extreme weather conditions such Lignt Snow Showers,\n",
    "# thunders, light ice pallets, heavy thunderstorms etc. have a very high severity of accidents \n",
    "# as compared to relatively normal conditions\n",
    "\n",
    "plt.figure(figsize=(20,10))\n",
    "plt.xticks(fontsize=11, rotation=90)\n",
    "plt.bar(Weather.index, percentage_severity_2, label='Severity 2')\n",
    "plt.bar(Weather.index, percentage_severity_3, label='Severity 3')\n",
    "plt.bar(Weather.index, percentage_severity_4, label='Severity 4')\n",
    "plt.bar(Weather.index, percentage_severity_1, label='Severity 1')\n",
    "plt.legend(loc=1, prop={'size': 11})"
   ]
  },
  {
   "cell_type": "code",
   "execution_count": null,
   "id": "3d8ac520",
   "metadata": {},
   "outputs": [],
   "source": []
  },
  {
   "cell_type": "markdown",
   "id": "b5bd1b6d",
   "metadata": {},
   "source": [
    "#### Severity by Year"
   ]
  },
  {
   "cell_type": "code",
   "execution_count": null,
   "id": "7f672351",
   "metadata": {},
   "outputs": [],
   "source": []
  },
  {
   "cell_type": "code",
   "execution_count": null,
   "id": "6ff9da0e",
   "metadata": {},
   "outputs": [],
   "source": [
    "# Examine data\n",
    "data.groupby([\"acc_year\",\"Severity\"]).size().unstack()"
   ]
  },
  {
   "cell_type": "code",
   "execution_count": null,
   "id": "9df942f3",
   "metadata": {},
   "outputs": [],
   "source": [
    "Years = data.acc_year.unique()"
   ]
  },
  {
   "cell_type": "code",
   "execution_count": null,
   "id": "2497596f",
   "metadata": {},
   "outputs": [],
   "source": [
    "count_by_acc_year=[]\n",
    "for i in data.acc_year.unique():\n",
    "    count_by_acc_year.append(data[data['acc_year']==i].count()['ID'])"
   ]
  },
  {
   "cell_type": "code",
   "execution_count": null,
   "id": "484dc05a",
   "metadata": {},
   "outputs": [],
   "source": [
    "severity_1 = []\n",
    "severity_2 = []\n",
    "severity_3 = []\n",
    "severity_4 = []\n",
    "for i in Years:\n",
    "    severity_1.append(data[(data['Severity']==1)&(data['acc_year']==i)].count()['ID'])\n",
    "    severity_2.append(data[(data['Severity']==2)&(data['acc_year']==i)].count()['ID'])\n",
    "    severity_3.append(data[(data['Severity']==3)&(data['acc_year']==i)].count()['ID'])\n",
    "    severity_4.append(data[(data['Severity']==4)&(data['acc_year']==i)].count()['ID'])\n",
    "\n",
    "#data.groupby([\"acc_year\",\"Severity\"]).size().unstack().plot(kind='bar',stacked=True)"
   ]
  },
  {
   "cell_type": "code",
   "execution_count": null,
   "id": "42ff19cb",
   "metadata": {},
   "outputs": [],
   "source": [
    "plt.figure(figsize=(15,10))\n",
    "\n",
    "plt.bar(Years, severity_2, label='Severity 2')\n",
    "plt.bar(Years, severity_3, label='Severity 3')\n",
    "plt.bar(Years, severity_4, label='Severity 4')\n",
    "plt.bar(Years, severity_1, label='Severity 1')\n",
    "\n",
    "\n",
    "plt.legend()"
   ]
  },
  {
   "cell_type": "code",
   "execution_count": null,
   "id": "1adba0b0",
   "metadata": {},
   "outputs": [],
   "source": []
  },
  {
   "cell_type": "markdown",
   "id": "89b1f405",
   "metadata": {},
   "source": [
    "### CLUSTERING"
   ]
  },
  {
   "cell_type": "code",
   "execution_count": null,
   "id": "cbf06e95",
   "metadata": {},
   "outputs": [],
   "source": [
    "acc = pd.read_csv('/Users/levantisgio/Desktop/accidents.csv')#, nrows=100000)#sbise to nrows"
   ]
  },
  {
   "cell_type": "code",
   "execution_count": null,
   "id": "0ef7623b",
   "metadata": {},
   "outputs": [],
   "source": [
    "acc=acc.drop(['ID','Start_Lat','Start_Lng','End_Lat','Start_Time','End_Lng','End_Time','Precipitation(in)','Description','Number','Street','Side','City','Country','State','Zipcode','County','Timezone','Airport_Code','Weather_Timestamp','Temperature(F)','Wind_Chill(F)','Wind_Direction','Amenity','Bump','Crossing','Give_Way','Junction','Traffic_Calming','Traffic_Signal','No_Exit','Railway','Turning_Loop','Roundabout','Station','Stop','Sunrise_Sunset','Civil_Twilight','Nautical_Twilight','Astronomical_Twilight'],axis=1)"
   ]
  },
  {
   "cell_type": "code",
   "execution_count": null,
   "id": "3c3eacd4",
   "metadata": {},
   "outputs": [],
   "source": [
    "acc \n",
    "#na kanw fill NaN me avg?"
   ]
  },
  {
   "cell_type": "code",
   "execution_count": null,
   "id": "c0225708",
   "metadata": {},
   "outputs": [],
   "source": [
    "acc['Weather_Condition'].unique() #mi aksiopoihsimh"
   ]
  },
  {
   "cell_type": "code",
   "execution_count": null,
   "id": "b384e919",
   "metadata": {},
   "outputs": [],
   "source": [
    "acc=acc.drop('Weather_Condition',axis=1)"
   ]
  },
  {
   "cell_type": "code",
   "execution_count": null,
   "id": "ea2298e8",
   "metadata": {},
   "outputs": [],
   "source": [
    "print(acc['Severity'].value_counts())\n"
   ]
  },
  {
   "cell_type": "code",
   "execution_count": null,
   "id": "6d5fa1b1",
   "metadata": {},
   "outputs": [],
   "source": [
    "acc.info()"
   ]
  },
  {
   "cell_type": "code",
   "execution_count": null,
   "id": "d350146a",
   "metadata": {},
   "outputs": [],
   "source": [
    "seaborn.countplot(x='Severity',data=acc)"
   ]
  },
  {
   "cell_type": "code",
   "execution_count": null,
   "id": "0deca6be",
   "metadata": {},
   "outputs": [],
   "source": [
    "acc=acc.dropna() "
   ]
  },
  {
   "cell_type": "code",
   "execution_count": null,
   "id": "bbd25b6d",
   "metadata": {},
   "outputs": [],
   "source": [
    "myVal=acc['Severity']"
   ]
  },
  {
   "cell_type": "code",
   "execution_count": null,
   "id": "7526097b",
   "metadata": {},
   "outputs": [],
   "source": [
    "myVal"
   ]
  },
  {
   "cell_type": "code",
   "execution_count": null,
   "id": "6b5f6026",
   "metadata": {},
   "outputs": [],
   "source": [
    "acc=acc.drop('Severity',axis=1)"
   ]
  },
  {
   "cell_type": "code",
   "execution_count": null,
   "id": "d17dacfa",
   "metadata": {},
   "outputs": [],
   "source": [
    "acc"
   ]
  },
  {
   "cell_type": "code",
   "execution_count": null,
   "id": "88069636",
   "metadata": {},
   "outputs": [],
   "source": []
  },
  {
   "cell_type": "code",
   "execution_count": null,
   "id": "df535f3c",
   "metadata": {},
   "outputs": [],
   "source": []
  },
  {
   "cell_type": "markdown",
   "id": "c74c3c08",
   "metadata": {},
   "source": [
    "#### KANONIKOPOIHSH"
   ]
  },
  {
   "cell_type": "code",
   "execution_count": null,
   "id": "33584c48",
   "metadata": {},
   "outputs": [],
   "source": [
    "scaler = MinMaxScaler()"
   ]
  },
  {
   "cell_type": "code",
   "execution_count": null,
   "id": "c8863a76",
   "metadata": {},
   "outputs": [],
   "source": [
    "mydata=scaler.fit_transform(acc)"
   ]
  },
  {
   "cell_type": "code",
   "execution_count": null,
   "id": "fdfb0cde",
   "metadata": {},
   "outputs": [],
   "source": [
    "mydata = pd.DataFrame(scaler.fit_transform(acc.values), columns=acc.columns, index=acc.index)"
   ]
  },
  {
   "cell_type": "code",
   "execution_count": null,
   "id": "11bb47be",
   "metadata": {},
   "outputs": [],
   "source": []
  },
  {
   "cell_type": "code",
   "execution_count": null,
   "id": "c899fae3",
   "metadata": {},
   "outputs": [],
   "source": []
  },
  {
   "cell_type": "markdown",
   "id": "138961e2",
   "metadata": {},
   "source": [
    "#### K-MEANS"
   ]
  },
  {
   "cell_type": "code",
   "execution_count": null,
   "id": "95e00129",
   "metadata": {},
   "outputs": [],
   "source": [
    "machine=KMeans(n_clusters=4)#SOS na ginei 4 otan mpoun ola ta dedomena"
   ]
  },
  {
   "cell_type": "code",
   "execution_count": null,
   "id": "a6609bbc",
   "metadata": {},
   "outputs": [],
   "source": [
    "machine.fit(mydata)"
   ]
  },
  {
   "cell_type": "code",
   "execution_count": null,
   "id": "7a4c6650",
   "metadata": {},
   "outputs": [],
   "source": [
    "machine.labels_"
   ]
  },
  {
   "cell_type": "code",
   "execution_count": null,
   "id": "58ab1dd0",
   "metadata": {},
   "outputs": [],
   "source": [
    "machine.cluster_centers_"
   ]
  },
  {
   "cell_type": "code",
   "execution_count": null,
   "id": "991e5ad1",
   "metadata": {},
   "outputs": [],
   "source": [
    "\n",
    "plt.scatter(mydata['Distance(mi)'],mydata['Humidity(%)'],c=machine.labels_,cmap='rainbow')\n",
    "plt.title('K-MEANS')"
   ]
  },
  {
   "cell_type": "code",
   "execution_count": null,
   "id": "57c83718",
   "metadata": {},
   "outputs": [],
   "source": []
  },
  {
   "cell_type": "code",
   "execution_count": null,
   "id": "1b6c38d9",
   "metadata": {},
   "outputs": [],
   "source": [
    "mydata['Severity']=myVal"
   ]
  },
  {
   "cell_type": "code",
   "execution_count": null,
   "id": "b3827ae9",
   "metadata": {},
   "outputs": [],
   "source": [
    "plt.scatter(mydata['Distance(mi)'],mydata['Humidity(%)'],c=mydata['Severity'],cmap='rainbow')\n",
    "plt.title('Original')"
   ]
  },
  {
   "cell_type": "code",
   "execution_count": null,
   "id": "eef99834",
   "metadata": {},
   "outputs": [],
   "source": []
  },
  {
   "cell_type": "code",
   "execution_count": null,
   "id": "f7e53042",
   "metadata": {},
   "outputs": [],
   "source": []
  },
  {
   "cell_type": "markdown",
   "id": "afa284e9",
   "metadata": {},
   "source": [
    "#### DBSCAN"
   ]
  },
  {
   "cell_type": "code",
   "execution_count": null,
   "id": "b3f53b40",
   "metadata": {},
   "outputs": [],
   "source": [
    "machine = DBSCAN(eps=0.3, min_samples=5)"
   ]
  },
  {
   "cell_type": "code",
   "execution_count": null,
   "id": "0d685be2",
   "metadata": {},
   "outputs": [],
   "source": [
    "mydata=mydata.drop('Severity',axis=1)"
   ]
  },
  {
   "cell_type": "code",
   "execution_count": null,
   "id": "2c172c58",
   "metadata": {},
   "outputs": [],
   "source": [
    "machine.fit(mydata)"
   ]
  },
  {
   "cell_type": "code",
   "execution_count": null,
   "id": "ae789821",
   "metadata": {},
   "outputs": [],
   "source": [
    "DBlabels = machine.labels_"
   ]
  },
  {
   "cell_type": "code",
   "execution_count": null,
   "id": "4f726621",
   "metadata": {},
   "outputs": [],
   "source": [
    "DBlabels"
   ]
  },
  {
   "cell_type": "code",
   "execution_count": null,
   "id": "99f12db5",
   "metadata": {},
   "outputs": [],
   "source": [
    "matplotlib.pyplot.scatter(mydata['Distance(mi)'],mydata['Humidity(%)'],c=DBlabels,cmap='rainbow')\n",
    "matplotlib.pyplot.title('DB-SCAN')"
   ]
  },
  {
   "cell_type": "code",
   "execution_count": null,
   "id": "29d72b4d",
   "metadata": {},
   "outputs": [],
   "source": [
    "matplotlib.pyplot.scatter(mydata['Visibility(mi)'],mydata['Distance(mi)'],c=DBlabels,cmap='rainbow')\n",
    "matplotlib.pyplot.title('DB-SCAN')"
   ]
  },
  {
   "cell_type": "code",
   "execution_count": null,
   "id": "695280cf",
   "metadata": {},
   "outputs": [],
   "source": []
  },
  {
   "cell_type": "code",
   "execution_count": null,
   "id": "9e17cb96",
   "metadata": {},
   "outputs": [],
   "source": []
  },
  {
   "cell_type": "markdown",
   "id": "2ee28084",
   "metadata": {},
   "source": [
    "### CLASSIFICATION"
   ]
  },
  {
   "cell_type": "code",
   "execution_count": null,
   "id": "341c21bb",
   "metadata": {},
   "outputs": [],
   "source": []
  },
  {
   "cell_type": "markdown",
   "id": "63a3ab8a",
   "metadata": {},
   "source": [
    "##### Train Test Split     33-66"
   ]
  },
  {
   "cell_type": "code",
   "execution_count": null,
   "id": "d69f5b89",
   "metadata": {},
   "outputs": [],
   "source": []
  },
  {
   "cell_type": "code",
   "execution_count": null,
   "id": "81c97f74",
   "metadata": {},
   "outputs": [],
   "source": [
    "X_train, X_test, y_train, y_test = train_test_split(mydata, myVal, test_size=0.33, random_state=42)"
   ]
  },
  {
   "cell_type": "code",
   "execution_count": null,
   "id": "abfa2d99",
   "metadata": {},
   "outputs": [],
   "source": [
    "#splitarw to teliko set kai ftiaxnw mia machine gia logistic regression \n",
    "#giati auto pou thelw einai mia mixani entaksis se klasi(to severity exei 4 classes)"
   ]
  },
  {
   "cell_type": "code",
   "execution_count": null,
   "id": "62c0d94c",
   "metadata": {},
   "outputs": [],
   "source": []
  },
  {
   "cell_type": "markdown",
   "id": "65a0f4e8",
   "metadata": {},
   "source": [
    "#### LOGISTIC REGRESSION"
   ]
  },
  {
   "cell_type": "code",
   "execution_count": null,
   "id": "2cc01fec",
   "metadata": {},
   "outputs": [],
   "source": [
    "machine = LogisticRegression()"
   ]
  },
  {
   "cell_type": "code",
   "execution_count": null,
   "id": "af0ec469",
   "metadata": {},
   "outputs": [],
   "source": [
    "machine.fit(X_train,y_train)"
   ]
  },
  {
   "cell_type": "code",
   "execution_count": null,
   "id": "7f9b48b0",
   "metadata": {},
   "outputs": [],
   "source": [
    "predictions = machine.predict(X_test)"
   ]
  },
  {
   "cell_type": "code",
   "execution_count": null,
   "id": "447e8448",
   "metadata": {},
   "outputs": [],
   "source": [
    "print(classification_report(y_test,predictions))"
   ]
  },
  {
   "cell_type": "code",
   "execution_count": null,
   "id": "ab749879",
   "metadata": {},
   "outputs": [],
   "source": [
    "print(confusion_matrix(y_test,predictions))"
   ]
  },
  {
   "cell_type": "code",
   "execution_count": null,
   "id": "33fcc396",
   "metadata": {},
   "outputs": [],
   "source": []
  },
  {
   "cell_type": "markdown",
   "id": "c4b415f7",
   "metadata": {},
   "source": [
    "#### K_NEAREST (DEN TREXEI)"
   ]
  },
  {
   "cell_type": "code",
   "execution_count": null,
   "id": "6760892a",
   "metadata": {},
   "outputs": [],
   "source": [
    "# machine = KNeighborsClassifier(n_neighbors = 15)"
   ]
  },
  {
   "cell_type": "code",
   "execution_count": null,
   "id": "edc080ae",
   "metadata": {},
   "outputs": [],
   "source": [
    "# machine.fit(X_train,y_train)"
   ]
  },
  {
   "cell_type": "code",
   "execution_count": null,
   "id": "d0f65728",
   "metadata": {},
   "outputs": [],
   "source": [
    "# predictions  = machine.predict(X_test)"
   ]
  },
  {
   "cell_type": "code",
   "execution_count": null,
   "id": "320ebce6",
   "metadata": {},
   "outputs": [],
   "source": [
    "# print(classification_report(y_test,predictions))"
   ]
  },
  {
   "cell_type": "code",
   "execution_count": null,
   "id": "77860a8d",
   "metadata": {},
   "outputs": [],
   "source": [
    "# print(confusion_matrix(y_test,predictions))"
   ]
  },
  {
   "cell_type": "code",
   "execution_count": null,
   "id": "4a9d69bc",
   "metadata": {},
   "outputs": [],
   "source": []
  },
  {
   "cell_type": "code",
   "execution_count": null,
   "id": "29b9fbdb",
   "metadata": {},
   "outputs": [],
   "source": []
  },
  {
   "cell_type": "markdown",
   "id": "41d6a79b",
   "metadata": {},
   "source": [
    "#### DECISION TREE"
   ]
  },
  {
   "cell_type": "code",
   "execution_count": null,
   "id": "982751bf",
   "metadata": {},
   "outputs": [],
   "source": [
    "machine = DecisionTreeClassifier()"
   ]
  },
  {
   "cell_type": "code",
   "execution_count": null,
   "id": "66eb8e2a",
   "metadata": {},
   "outputs": [],
   "source": [
    "machine.fit(X_train,y_train)"
   ]
  },
  {
   "cell_type": "code",
   "execution_count": null,
   "id": "2df65008",
   "metadata": {},
   "outputs": [],
   "source": [
    "predictions = machine.predict(X_test)"
   ]
  },
  {
   "cell_type": "code",
   "execution_count": null,
   "id": "9c645db5",
   "metadata": {},
   "outputs": [],
   "source": [
    "print(classification_report(y_test,predictions))"
   ]
  },
  {
   "cell_type": "code",
   "execution_count": null,
   "id": "a31dbb77",
   "metadata": {},
   "outputs": [],
   "source": [
    "print(confusion_matrix(y_test,predictions))"
   ]
  },
  {
   "cell_type": "code",
   "execution_count": null,
   "id": "69892c7b",
   "metadata": {},
   "outputs": [],
   "source": []
  },
  {
   "cell_type": "code",
   "execution_count": null,
   "id": "38128117",
   "metadata": {},
   "outputs": [],
   "source": []
  },
  {
   "cell_type": "markdown",
   "id": "77b704bb",
   "metadata": {},
   "source": [
    "#### RANDOM FOREST (DEN TREXEI)"
   ]
  },
  {
   "cell_type": "code",
   "execution_count": null,
   "id": "9d990fe9",
   "metadata": {},
   "outputs": [],
   "source": [
    "# machine = RandomForestClassifier(n_estimators=100)"
   ]
  },
  {
   "cell_type": "code",
   "execution_count": null,
   "id": "b6414a32",
   "metadata": {},
   "outputs": [],
   "source": [
    "# machine.fit(X_train, y_train)"
   ]
  },
  {
   "cell_type": "code",
   "execution_count": null,
   "id": "ad0ab199",
   "metadata": {},
   "outputs": [],
   "source": [
    "# predictions = machine.predict(X_test)"
   ]
  },
  {
   "cell_type": "code",
   "execution_count": null,
   "id": "e3679e25",
   "metadata": {},
   "outputs": [],
   "source": [
    "# print(classification_report(y_test,predictions))"
   ]
  },
  {
   "cell_type": "code",
   "execution_count": null,
   "id": "a695e555",
   "metadata": {},
   "outputs": [],
   "source": [
    "# print(confusion_matrix(y_test,predictions))"
   ]
  },
  {
   "cell_type": "code",
   "execution_count": null,
   "id": "da485925",
   "metadata": {},
   "outputs": [],
   "source": []
  },
  {
   "cell_type": "markdown",
   "id": "2bbd8272",
   "metadata": {},
   "source": [
    " #### SVM (DEN TREXEI) "
   ]
  },
  {
   "cell_type": "code",
   "execution_count": null,
   "id": "2a74f673",
   "metadata": {},
   "outputs": [],
   "source": [
    "#machine = SVC()"
   ]
  },
  {
   "cell_type": "code",
   "execution_count": null,
   "id": "e2e28ccf",
   "metadata": {},
   "outputs": [],
   "source": [
    "#machine.fit(X_train,y_train)"
   ]
  },
  {
   "cell_type": "code",
   "execution_count": null,
   "id": "b5f0be8e",
   "metadata": {},
   "outputs": [],
   "source": [
    "#predictions = machine.predict(X_test)"
   ]
  },
  {
   "cell_type": "code",
   "execution_count": null,
   "id": "da9db53c",
   "metadata": {},
   "outputs": [],
   "source": [
    "#print(classification_report(y_test,predictions))"
   ]
  },
  {
   "cell_type": "code",
   "execution_count": null,
   "id": "5f6985a6",
   "metadata": {},
   "outputs": [],
   "source": [
    "#print(confusion_matrix(y_test,predictions))"
   ]
  },
  {
   "cell_type": "code",
   "execution_count": null,
   "id": "e75528e4",
   "metadata": {},
   "outputs": [],
   "source": []
  }
 ],
 "metadata": {
  "kernelspec": {
   "display_name": "Python 3 (ipykernel)",
   "language": "python",
   "name": "python3"
  },
  "language_info": {
   "codemirror_mode": {
    "name": "ipython",
    "version": 3
   },
   "file_extension": ".py",
   "mimetype": "text/x-python",
   "name": "python",
   "nbconvert_exporter": "python",
   "pygments_lexer": "ipython3",
   "version": "3.9.7"
  }
 },
 "nbformat": 4,
 "nbformat_minor": 5
}
